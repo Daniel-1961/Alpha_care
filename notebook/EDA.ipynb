{
 "cells": [
  {
   "cell_type": "code",
   "execution_count": 4,
   "metadata": {},
   "outputs": [],
   "source": [
    "import pandas as pd"
   ]
  },
  {
   "cell_type": "code",
   "execution_count": 1,
   "metadata": {},
   "outputs": [],
   "source": [
    "import sys\n",
    "import os\n",
    "sys.path.append(os.path.abspath(\"../scripts\"))"
   ]
  },
  {
   "cell_type": "code",
   "execution_count": 2,
   "metadata": {},
   "outputs": [],
   "source": [
    "#importing the class InsuranceEDA from scripts folder\n",
    "from scripts import *\n",
    "from Insurance_eda import InsuranceEDA"
   ]
  },
  {
   "cell_type": "code",
   "execution_count": 5,
   "metadata": {},
   "outputs": [],
   "source": [
    "df=pd.read_csv(\"..\\\\Data\\\\output.csv\", low_memory=False)"
   ]
  },
  {
   "cell_type": "code",
   "execution_count": 6,
   "metadata": {},
   "outputs": [
    {
     "data": {
      "text/html": [
       "<div>\n",
       "<style scoped>\n",
       "    .dataframe tbody tr th:only-of-type {\n",
       "        vertical-align: middle;\n",
       "    }\n",
       "\n",
       "    .dataframe tbody tr th {\n",
       "        vertical-align: top;\n",
       "    }\n",
       "\n",
       "    .dataframe thead th {\n",
       "        text-align: right;\n",
       "    }\n",
       "</style>\n",
       "<table border=\"1\" class=\"dataframe\">\n",
       "  <thead>\n",
       "    <tr style=\"text-align: right;\">\n",
       "      <th></th>\n",
       "      <th>UnderwrittenCoverID</th>\n",
       "      <th>PolicyID</th>\n",
       "      <th>TransactionMonth</th>\n",
       "      <th>IsVATRegistered</th>\n",
       "      <th>Citizenship</th>\n",
       "      <th>LegalType</th>\n",
       "      <th>Title</th>\n",
       "      <th>Language</th>\n",
       "      <th>Bank</th>\n",
       "      <th>AccountType</th>\n",
       "      <th>...</th>\n",
       "      <th>ExcessSelected</th>\n",
       "      <th>CoverCategory</th>\n",
       "      <th>CoverType</th>\n",
       "      <th>CoverGroup</th>\n",
       "      <th>Section</th>\n",
       "      <th>Product</th>\n",
       "      <th>StatutoryClass</th>\n",
       "      <th>StatutoryRiskType</th>\n",
       "      <th>TotalPremium</th>\n",
       "      <th>TotalClaims</th>\n",
       "    </tr>\n",
       "  </thead>\n",
       "  <tbody>\n",
       "    <tr>\n",
       "      <th>0</th>\n",
       "      <td>145249</td>\n",
       "      <td>12827</td>\n",
       "      <td>2015-03-01 00:00:00</td>\n",
       "      <td>True</td>\n",
       "      <td></td>\n",
       "      <td>Close Corporation</td>\n",
       "      <td>Mr</td>\n",
       "      <td>English</td>\n",
       "      <td>First National Bank</td>\n",
       "      <td>Current account</td>\n",
       "      <td>...</td>\n",
       "      <td>Mobility - Windscreen</td>\n",
       "      <td>Windscreen</td>\n",
       "      <td>Windscreen</td>\n",
       "      <td>Comprehensive - Taxi</td>\n",
       "      <td>Motor Comprehensive</td>\n",
       "      <td>Mobility Metered Taxis: Monthly</td>\n",
       "      <td>Commercial</td>\n",
       "      <td>IFRS Constant</td>\n",
       "      <td>21.929825</td>\n",
       "      <td>0.0</td>\n",
       "    </tr>\n",
       "    <tr>\n",
       "      <th>1</th>\n",
       "      <td>145249</td>\n",
       "      <td>12827</td>\n",
       "      <td>2015-05-01 00:00:00</td>\n",
       "      <td>True</td>\n",
       "      <td></td>\n",
       "      <td>Close Corporation</td>\n",
       "      <td>Mr</td>\n",
       "      <td>English</td>\n",
       "      <td>First National Bank</td>\n",
       "      <td>Current account</td>\n",
       "      <td>...</td>\n",
       "      <td>Mobility - Windscreen</td>\n",
       "      <td>Windscreen</td>\n",
       "      <td>Windscreen</td>\n",
       "      <td>Comprehensive - Taxi</td>\n",
       "      <td>Motor Comprehensive</td>\n",
       "      <td>Mobility Metered Taxis: Monthly</td>\n",
       "      <td>Commercial</td>\n",
       "      <td>IFRS Constant</td>\n",
       "      <td>21.929825</td>\n",
       "      <td>0.0</td>\n",
       "    </tr>\n",
       "    <tr>\n",
       "      <th>2</th>\n",
       "      <td>145249</td>\n",
       "      <td>12827</td>\n",
       "      <td>2015-07-01 00:00:00</td>\n",
       "      <td>True</td>\n",
       "      <td></td>\n",
       "      <td>Close Corporation</td>\n",
       "      <td>Mr</td>\n",
       "      <td>English</td>\n",
       "      <td>First National Bank</td>\n",
       "      <td>Current account</td>\n",
       "      <td>...</td>\n",
       "      <td>Mobility - Windscreen</td>\n",
       "      <td>Windscreen</td>\n",
       "      <td>Windscreen</td>\n",
       "      <td>Comprehensive - Taxi</td>\n",
       "      <td>Motor Comprehensive</td>\n",
       "      <td>Mobility Metered Taxis: Monthly</td>\n",
       "      <td>Commercial</td>\n",
       "      <td>IFRS Constant</td>\n",
       "      <td>0.000000</td>\n",
       "      <td>0.0</td>\n",
       "    </tr>\n",
       "    <tr>\n",
       "      <th>3</th>\n",
       "      <td>145255</td>\n",
       "      <td>12827</td>\n",
       "      <td>2015-05-01 00:00:00</td>\n",
       "      <td>True</td>\n",
       "      <td></td>\n",
       "      <td>Close Corporation</td>\n",
       "      <td>Mr</td>\n",
       "      <td>English</td>\n",
       "      <td>First National Bank</td>\n",
       "      <td>Current account</td>\n",
       "      <td>...</td>\n",
       "      <td>Mobility - Metered Taxis - R2000</td>\n",
       "      <td>Own damage</td>\n",
       "      <td>Own Damage</td>\n",
       "      <td>Comprehensive - Taxi</td>\n",
       "      <td>Motor Comprehensive</td>\n",
       "      <td>Mobility Metered Taxis: Monthly</td>\n",
       "      <td>Commercial</td>\n",
       "      <td>IFRS Constant</td>\n",
       "      <td>512.848070</td>\n",
       "      <td>0.0</td>\n",
       "    </tr>\n",
       "    <tr>\n",
       "      <th>4</th>\n",
       "      <td>145255</td>\n",
       "      <td>12827</td>\n",
       "      <td>2015-07-01 00:00:00</td>\n",
       "      <td>True</td>\n",
       "      <td></td>\n",
       "      <td>Close Corporation</td>\n",
       "      <td>Mr</td>\n",
       "      <td>English</td>\n",
       "      <td>First National Bank</td>\n",
       "      <td>Current account</td>\n",
       "      <td>...</td>\n",
       "      <td>Mobility - Metered Taxis - R2000</td>\n",
       "      <td>Own damage</td>\n",
       "      <td>Own Damage</td>\n",
       "      <td>Comprehensive - Taxi</td>\n",
       "      <td>Motor Comprehensive</td>\n",
       "      <td>Mobility Metered Taxis: Monthly</td>\n",
       "      <td>Commercial</td>\n",
       "      <td>IFRS Constant</td>\n",
       "      <td>0.000000</td>\n",
       "      <td>0.0</td>\n",
       "    </tr>\n",
       "  </tbody>\n",
       "</table>\n",
       "<p>5 rows × 52 columns</p>\n",
       "</div>"
      ],
      "text/plain": [
       "   UnderwrittenCoverID  PolicyID     TransactionMonth  IsVATRegistered  \\\n",
       "0               145249     12827  2015-03-01 00:00:00             True   \n",
       "1               145249     12827  2015-05-01 00:00:00             True   \n",
       "2               145249     12827  2015-07-01 00:00:00             True   \n",
       "3               145255     12827  2015-05-01 00:00:00             True   \n",
       "4               145255     12827  2015-07-01 00:00:00             True   \n",
       "\n",
       "  Citizenship          LegalType Title Language                 Bank  \\\n",
       "0              Close Corporation    Mr  English  First National Bank   \n",
       "1              Close Corporation    Mr  English  First National Bank   \n",
       "2              Close Corporation    Mr  English  First National Bank   \n",
       "3              Close Corporation    Mr  English  First National Bank   \n",
       "4              Close Corporation    Mr  English  First National Bank   \n",
       "\n",
       "       AccountType  ...                    ExcessSelected CoverCategory  \\\n",
       "0  Current account  ...             Mobility - Windscreen    Windscreen   \n",
       "1  Current account  ...             Mobility - Windscreen    Windscreen   \n",
       "2  Current account  ...             Mobility - Windscreen    Windscreen   \n",
       "3  Current account  ...  Mobility - Metered Taxis - R2000    Own damage   \n",
       "4  Current account  ...  Mobility - Metered Taxis - R2000    Own damage   \n",
       "\n",
       "    CoverType            CoverGroup              Section  \\\n",
       "0  Windscreen  Comprehensive - Taxi  Motor Comprehensive   \n",
       "1  Windscreen  Comprehensive - Taxi  Motor Comprehensive   \n",
       "2  Windscreen  Comprehensive - Taxi  Motor Comprehensive   \n",
       "3  Own Damage  Comprehensive - Taxi  Motor Comprehensive   \n",
       "4  Own Damage  Comprehensive - Taxi  Motor Comprehensive   \n",
       "\n",
       "                           Product StatutoryClass StatutoryRiskType  \\\n",
       "0  Mobility Metered Taxis: Monthly     Commercial     IFRS Constant   \n",
       "1  Mobility Metered Taxis: Monthly     Commercial     IFRS Constant   \n",
       "2  Mobility Metered Taxis: Monthly     Commercial     IFRS Constant   \n",
       "3  Mobility Metered Taxis: Monthly     Commercial     IFRS Constant   \n",
       "4  Mobility Metered Taxis: Monthly     Commercial     IFRS Constant   \n",
       "\n",
       "   TotalPremium TotalClaims  \n",
       "0     21.929825         0.0  \n",
       "1     21.929825         0.0  \n",
       "2      0.000000         0.0  \n",
       "3    512.848070         0.0  \n",
       "4      0.000000         0.0  \n",
       "\n",
       "[5 rows x 52 columns]"
      ]
     },
     "execution_count": 6,
     "metadata": {},
     "output_type": "execute_result"
    }
   ],
   "source": [
    "df.head()"
   ]
  },
  {
   "cell_type": "code",
   "execution_count": 7,
   "metadata": {},
   "outputs": [
    {
     "data": {
      "text/plain": [
       "(1000098, 52)"
      ]
     },
     "execution_count": 7,
     "metadata": {},
     "output_type": "execute_result"
    }
   ],
   "source": [
    "df.shape"
   ]
  },
  {
   "cell_type": "code",
   "execution_count": 8,
   "metadata": {},
   "outputs": [
    {
     "data": {
      "text/plain": [
       "Index(['UnderwrittenCoverID', 'PolicyID', 'TransactionMonth',\n",
       "       'IsVATRegistered', 'Citizenship', 'LegalType', 'Title', 'Language',\n",
       "       'Bank', 'AccountType', 'MaritalStatus', 'Gender', 'Country', 'Province',\n",
       "       'PostalCode', 'MainCrestaZone', 'SubCrestaZone', 'ItemType', 'mmcode',\n",
       "       'VehicleType', 'RegistrationYear', 'make', 'Model', 'Cylinders',\n",
       "       'cubiccapacity', 'kilowatts', 'bodytype', 'NumberOfDoors',\n",
       "       'VehicleIntroDate', 'CustomValueEstimate', 'AlarmImmobiliser',\n",
       "       'TrackingDevice', 'CapitalOutstanding', 'NewVehicle', 'WrittenOff',\n",
       "       'Rebuilt', 'Converted', 'CrossBorder', 'NumberOfVehiclesInFleet',\n",
       "       'SumInsured', 'TermFrequency', 'CalculatedPremiumPerTerm',\n",
       "       'ExcessSelected', 'CoverCategory', 'CoverType', 'CoverGroup', 'Section',\n",
       "       'Product', 'StatutoryClass', 'StatutoryRiskType', 'TotalPremium',\n",
       "       'TotalClaims'],\n",
       "      dtype='object')"
      ]
     },
     "execution_count": 8,
     "metadata": {},
     "output_type": "execute_result"
    }
   ],
   "source": [
    "df.columns"
   ]
  },
  {
   "cell_type": "code",
   "execution_count": 18,
   "metadata": {},
   "outputs": [
    {
     "ename": "KeyError",
     "evalue": "\"['CustomValueEstimate'] not found in axis\"",
     "output_type": "error",
     "traceback": [
      "\u001b[1;31m---------------------------------------------------------------------------\u001b[0m",
      "\u001b[1;31mKeyError\u001b[0m                                  Traceback (most recent call last)",
      "Cell \u001b[1;32mIn[18], line 1\u001b[0m\n\u001b[1;32m----> 1\u001b[0m df\u001b[38;5;241m=\u001b[39m\u001b[43mdf\u001b[49m\u001b[38;5;241;43m.\u001b[39;49m\u001b[43mdrop\u001b[49m\u001b[43m(\u001b[49m\u001b[38;5;124;43m'\u001b[39;49m\u001b[38;5;124;43mCustomValueEstimate\u001b[39;49m\u001b[38;5;124;43m'\u001b[39;49m\u001b[43m,\u001b[49m\u001b[43m \u001b[49m\u001b[43maxis\u001b[49m\u001b[38;5;241;43m=\u001b[39;49m\u001b[38;5;241;43m1\u001b[39;49m\u001b[43m)\u001b[49m\n",
      "File \u001b[1;32mc:\\Users\\lenovo\\OneDrive\\Desktop\\10Academy Files\\week_3\\Alpha_care\\week3\\Lib\\site-packages\\pandas\\core\\frame.py:5581\u001b[0m, in \u001b[0;36mDataFrame.drop\u001b[1;34m(self, labels, axis, index, columns, level, inplace, errors)\u001b[0m\n\u001b[0;32m   5433\u001b[0m \u001b[38;5;28;01mdef\u001b[39;00m \u001b[38;5;21mdrop\u001b[39m(\n\u001b[0;32m   5434\u001b[0m     \u001b[38;5;28mself\u001b[39m,\n\u001b[0;32m   5435\u001b[0m     labels: IndexLabel \u001b[38;5;241m|\u001b[39m \u001b[38;5;28;01mNone\u001b[39;00m \u001b[38;5;241m=\u001b[39m \u001b[38;5;28;01mNone\u001b[39;00m,\n\u001b[1;32m   (...)\u001b[0m\n\u001b[0;32m   5442\u001b[0m     errors: IgnoreRaise \u001b[38;5;241m=\u001b[39m \u001b[38;5;124m\"\u001b[39m\u001b[38;5;124mraise\u001b[39m\u001b[38;5;124m\"\u001b[39m,\n\u001b[0;32m   5443\u001b[0m ) \u001b[38;5;241m-\u001b[39m\u001b[38;5;241m>\u001b[39m DataFrame \u001b[38;5;241m|\u001b[39m \u001b[38;5;28;01mNone\u001b[39;00m:\n\u001b[0;32m   5444\u001b[0m \u001b[38;5;250m    \u001b[39m\u001b[38;5;124;03m\"\"\"\u001b[39;00m\n\u001b[0;32m   5445\u001b[0m \u001b[38;5;124;03m    Drop specified labels from rows or columns.\u001b[39;00m\n\u001b[0;32m   5446\u001b[0m \n\u001b[1;32m   (...)\u001b[0m\n\u001b[0;32m   5579\u001b[0m \u001b[38;5;124;03m            weight  1.0     0.8\u001b[39;00m\n\u001b[0;32m   5580\u001b[0m \u001b[38;5;124;03m    \"\"\"\u001b[39;00m\n\u001b[1;32m-> 5581\u001b[0m     \u001b[38;5;28;01mreturn\u001b[39;00m \u001b[38;5;28;43msuper\u001b[39;49m\u001b[43m(\u001b[49m\u001b[43m)\u001b[49m\u001b[38;5;241;43m.\u001b[39;49m\u001b[43mdrop\u001b[49m\u001b[43m(\u001b[49m\n\u001b[0;32m   5582\u001b[0m \u001b[43m        \u001b[49m\u001b[43mlabels\u001b[49m\u001b[38;5;241;43m=\u001b[39;49m\u001b[43mlabels\u001b[49m\u001b[43m,\u001b[49m\n\u001b[0;32m   5583\u001b[0m \u001b[43m        \u001b[49m\u001b[43maxis\u001b[49m\u001b[38;5;241;43m=\u001b[39;49m\u001b[43maxis\u001b[49m\u001b[43m,\u001b[49m\n\u001b[0;32m   5584\u001b[0m \u001b[43m        \u001b[49m\u001b[43mindex\u001b[49m\u001b[38;5;241;43m=\u001b[39;49m\u001b[43mindex\u001b[49m\u001b[43m,\u001b[49m\n\u001b[0;32m   5585\u001b[0m \u001b[43m        \u001b[49m\u001b[43mcolumns\u001b[49m\u001b[38;5;241;43m=\u001b[39;49m\u001b[43mcolumns\u001b[49m\u001b[43m,\u001b[49m\n\u001b[0;32m   5586\u001b[0m \u001b[43m        \u001b[49m\u001b[43mlevel\u001b[49m\u001b[38;5;241;43m=\u001b[39;49m\u001b[43mlevel\u001b[49m\u001b[43m,\u001b[49m\n\u001b[0;32m   5587\u001b[0m \u001b[43m        \u001b[49m\u001b[43minplace\u001b[49m\u001b[38;5;241;43m=\u001b[39;49m\u001b[43minplace\u001b[49m\u001b[43m,\u001b[49m\n\u001b[0;32m   5588\u001b[0m \u001b[43m        \u001b[49m\u001b[43merrors\u001b[49m\u001b[38;5;241;43m=\u001b[39;49m\u001b[43merrors\u001b[49m\u001b[43m,\u001b[49m\n\u001b[0;32m   5589\u001b[0m \u001b[43m    \u001b[49m\u001b[43m)\u001b[49m\n",
      "File \u001b[1;32mc:\\Users\\lenovo\\OneDrive\\Desktop\\10Academy Files\\week_3\\Alpha_care\\week3\\Lib\\site-packages\\pandas\\core\\generic.py:4788\u001b[0m, in \u001b[0;36mNDFrame.drop\u001b[1;34m(self, labels, axis, index, columns, level, inplace, errors)\u001b[0m\n\u001b[0;32m   4786\u001b[0m \u001b[38;5;28;01mfor\u001b[39;00m axis, labels \u001b[38;5;129;01min\u001b[39;00m axes\u001b[38;5;241m.\u001b[39mitems():\n\u001b[0;32m   4787\u001b[0m     \u001b[38;5;28;01mif\u001b[39;00m labels \u001b[38;5;129;01mis\u001b[39;00m \u001b[38;5;129;01mnot\u001b[39;00m \u001b[38;5;28;01mNone\u001b[39;00m:\n\u001b[1;32m-> 4788\u001b[0m         obj \u001b[38;5;241m=\u001b[39m \u001b[43mobj\u001b[49m\u001b[38;5;241;43m.\u001b[39;49m\u001b[43m_drop_axis\u001b[49m\u001b[43m(\u001b[49m\u001b[43mlabels\u001b[49m\u001b[43m,\u001b[49m\u001b[43m \u001b[49m\u001b[43maxis\u001b[49m\u001b[43m,\u001b[49m\u001b[43m \u001b[49m\u001b[43mlevel\u001b[49m\u001b[38;5;241;43m=\u001b[39;49m\u001b[43mlevel\u001b[49m\u001b[43m,\u001b[49m\u001b[43m \u001b[49m\u001b[43merrors\u001b[49m\u001b[38;5;241;43m=\u001b[39;49m\u001b[43merrors\u001b[49m\u001b[43m)\u001b[49m\n\u001b[0;32m   4790\u001b[0m \u001b[38;5;28;01mif\u001b[39;00m inplace:\n\u001b[0;32m   4791\u001b[0m     \u001b[38;5;28mself\u001b[39m\u001b[38;5;241m.\u001b[39m_update_inplace(obj)\n",
      "File \u001b[1;32mc:\\Users\\lenovo\\OneDrive\\Desktop\\10Academy Files\\week_3\\Alpha_care\\week3\\Lib\\site-packages\\pandas\\core\\generic.py:4830\u001b[0m, in \u001b[0;36mNDFrame._drop_axis\u001b[1;34m(self, labels, axis, level, errors, only_slice)\u001b[0m\n\u001b[0;32m   4828\u001b[0m         new_axis \u001b[38;5;241m=\u001b[39m axis\u001b[38;5;241m.\u001b[39mdrop(labels, level\u001b[38;5;241m=\u001b[39mlevel, errors\u001b[38;5;241m=\u001b[39merrors)\n\u001b[0;32m   4829\u001b[0m     \u001b[38;5;28;01melse\u001b[39;00m:\n\u001b[1;32m-> 4830\u001b[0m         new_axis \u001b[38;5;241m=\u001b[39m \u001b[43maxis\u001b[49m\u001b[38;5;241;43m.\u001b[39;49m\u001b[43mdrop\u001b[49m\u001b[43m(\u001b[49m\u001b[43mlabels\u001b[49m\u001b[43m,\u001b[49m\u001b[43m \u001b[49m\u001b[43merrors\u001b[49m\u001b[38;5;241;43m=\u001b[39;49m\u001b[43merrors\u001b[49m\u001b[43m)\u001b[49m\n\u001b[0;32m   4831\u001b[0m     indexer \u001b[38;5;241m=\u001b[39m axis\u001b[38;5;241m.\u001b[39mget_indexer(new_axis)\n\u001b[0;32m   4833\u001b[0m \u001b[38;5;66;03m# Case for non-unique axis\u001b[39;00m\n\u001b[0;32m   4834\u001b[0m \u001b[38;5;28;01melse\u001b[39;00m:\n",
      "File \u001b[1;32mc:\\Users\\lenovo\\OneDrive\\Desktop\\10Academy Files\\week_3\\Alpha_care\\week3\\Lib\\site-packages\\pandas\\core\\indexes\\base.py:7070\u001b[0m, in \u001b[0;36mIndex.drop\u001b[1;34m(self, labels, errors)\u001b[0m\n\u001b[0;32m   7068\u001b[0m \u001b[38;5;28;01mif\u001b[39;00m mask\u001b[38;5;241m.\u001b[39many():\n\u001b[0;32m   7069\u001b[0m     \u001b[38;5;28;01mif\u001b[39;00m errors \u001b[38;5;241m!=\u001b[39m \u001b[38;5;124m\"\u001b[39m\u001b[38;5;124mignore\u001b[39m\u001b[38;5;124m\"\u001b[39m:\n\u001b[1;32m-> 7070\u001b[0m         \u001b[38;5;28;01mraise\u001b[39;00m \u001b[38;5;167;01mKeyError\u001b[39;00m(\u001b[38;5;124mf\u001b[39m\u001b[38;5;124m\"\u001b[39m\u001b[38;5;132;01m{\u001b[39;00mlabels[mask]\u001b[38;5;241m.\u001b[39mtolist()\u001b[38;5;132;01m}\u001b[39;00m\u001b[38;5;124m not found in axis\u001b[39m\u001b[38;5;124m\"\u001b[39m)\n\u001b[0;32m   7071\u001b[0m     indexer \u001b[38;5;241m=\u001b[39m indexer[\u001b[38;5;241m~\u001b[39mmask]\n\u001b[0;32m   7072\u001b[0m \u001b[38;5;28;01mreturn\u001b[39;00m \u001b[38;5;28mself\u001b[39m\u001b[38;5;241m.\u001b[39mdelete(indexer)\n",
      "\u001b[1;31mKeyError\u001b[0m: \"['CustomValueEstimate'] not found in axis\""
     ]
    }
   ],
   "source": [
    "df=df.drop('CustomValueEstimate', axis=1)\n"
   ]
  },
  {
   "cell_type": "markdown",
   "metadata": {},
   "source": [
    "# Basic Eda for Insurance Data"
   ]
  },
  {
   "cell_type": "code",
   "execution_count": 10,
   "metadata": {},
   "outputs": [],
   "source": [
    "eda = InsuranceEDA(df)"
   ]
  },
  {
   "cell_type": "code",
   "execution_count": 11,
   "metadata": {},
   "outputs": [
    {
     "name": "stdout",
     "output_type": "stream",
     "text": [
      "\n",
      "Dataset Info:\n",
      "<class 'pandas.core.frame.DataFrame'>\n",
      "RangeIndex: 1000098 entries, 0 to 1000097\n",
      "Data columns (total 52 columns):\n",
      " #   Column                    Non-Null Count    Dtype  \n",
      "---  ------                    --------------    -----  \n",
      " 0   UnderwrittenCoverID       1000098 non-null  int64  \n",
      " 1   PolicyID                  1000098 non-null  int64  \n",
      " 2   TransactionMonth          1000098 non-null  object \n",
      " 3   IsVATRegistered           1000098 non-null  bool   \n",
      " 4   Citizenship               1000098 non-null  object \n",
      " 5   LegalType                 1000098 non-null  object \n",
      " 6   Title                     1000098 non-null  object \n",
      " 7   Language                  1000098 non-null  object \n",
      " 8   Bank                      854137 non-null   object \n",
      " 9   AccountType               959866 non-null   object \n",
      " 10  MaritalStatus             991839 non-null   object \n",
      " 11  Gender                    990562 non-null   object \n",
      " 12  Country                   1000098 non-null  object \n",
      " 13  Province                  1000098 non-null  object \n",
      " 14  PostalCode                1000098 non-null  int64  \n",
      " 15  MainCrestaZone            1000098 non-null  object \n",
      " 16  SubCrestaZone             1000098 non-null  object \n",
      " 17  ItemType                  1000098 non-null  object \n",
      " 18  mmcode                    999546 non-null   float64\n",
      " 19  VehicleType               999546 non-null   object \n",
      " 20  RegistrationYear          1000098 non-null  int64  \n",
      " 21  make                      999546 non-null   object \n",
      " 22  Model                     999546 non-null   object \n",
      " 23  Cylinders                 999546 non-null   float64\n",
      " 24  cubiccapacity             999546 non-null   float64\n",
      " 25  kilowatts                 999546 non-null   float64\n",
      " 26  bodytype                  999546 non-null   object \n",
      " 27  NumberOfDoors             999546 non-null   float64\n",
      " 28  VehicleIntroDate          999546 non-null   object \n",
      " 29  CustomValueEstimate       220456 non-null   float64\n",
      " 30  AlarmImmobiliser          1000098 non-null  object \n",
      " 31  TrackingDevice            1000098 non-null  object \n",
      " 32  CapitalOutstanding        1000096 non-null  object \n",
      " 33  NewVehicle                846803 non-null   object \n",
      " 34  WrittenOff                358197 non-null   object \n",
      " 35  Rebuilt                   358197 non-null   object \n",
      " 36  Converted                 358197 non-null   object \n",
      " 37  CrossBorder               698 non-null      object \n",
      " 38  NumberOfVehiclesInFleet   0 non-null        float64\n",
      " 39  SumInsured                1000098 non-null  float64\n",
      " 40  TermFrequency             1000098 non-null  object \n",
      " 41  CalculatedPremiumPerTerm  1000098 non-null  float64\n",
      " 42  ExcessSelected            1000098 non-null  object \n",
      " 43  CoverCategory             1000098 non-null  object \n",
      " 44  CoverType                 1000098 non-null  object \n",
      " 45  CoverGroup                1000098 non-null  object \n",
      " 46  Section                   1000098 non-null  object \n",
      " 47  Product                   1000098 non-null  object \n",
      " 48  StatutoryClass            1000098 non-null  object \n",
      " 49  StatutoryRiskType         1000098 non-null  object \n",
      " 50  TotalPremium              1000098 non-null  float64\n",
      " 51  TotalClaims               1000098 non-null  float64\n",
      "dtypes: bool(1), float64(11), int64(4), object(36)\n",
      "memory usage: 390.1+ MB\n",
      "\n",
      "First 5 Rows:\n",
      "   UnderwrittenCoverID  PolicyID     TransactionMonth  IsVATRegistered  \\\n",
      "0               145249     12827  2015-03-01 00:00:00             True   \n",
      "1               145249     12827  2015-05-01 00:00:00             True   \n",
      "2               145249     12827  2015-07-01 00:00:00             True   \n",
      "3               145255     12827  2015-05-01 00:00:00             True   \n",
      "4               145255     12827  2015-07-01 00:00:00             True   \n",
      "\n",
      "  Citizenship          LegalType Title Language                 Bank  \\\n",
      "0              Close Corporation    Mr  English  First National Bank   \n",
      "1              Close Corporation    Mr  English  First National Bank   \n",
      "2              Close Corporation    Mr  English  First National Bank   \n",
      "3              Close Corporation    Mr  English  First National Bank   \n",
      "4              Close Corporation    Mr  English  First National Bank   \n",
      "\n",
      "       AccountType  ...                    ExcessSelected CoverCategory  \\\n",
      "0  Current account  ...             Mobility - Windscreen    Windscreen   \n",
      "1  Current account  ...             Mobility - Windscreen    Windscreen   \n",
      "2  Current account  ...             Mobility - Windscreen    Windscreen   \n",
      "3  Current account  ...  Mobility - Metered Taxis - R2000    Own damage   \n",
      "4  Current account  ...  Mobility - Metered Taxis - R2000    Own damage   \n",
      "\n",
      "    CoverType            CoverGroup              Section  \\\n",
      "0  Windscreen  Comprehensive - Taxi  Motor Comprehensive   \n",
      "1  Windscreen  Comprehensive - Taxi  Motor Comprehensive   \n",
      "2  Windscreen  Comprehensive - Taxi  Motor Comprehensive   \n",
      "3  Own Damage  Comprehensive - Taxi  Motor Comprehensive   \n",
      "4  Own Damage  Comprehensive - Taxi  Motor Comprehensive   \n",
      "\n",
      "                           Product StatutoryClass StatutoryRiskType  \\\n",
      "0  Mobility Metered Taxis: Monthly     Commercial     IFRS Constant   \n",
      "1  Mobility Metered Taxis: Monthly     Commercial     IFRS Constant   \n",
      "2  Mobility Metered Taxis: Monthly     Commercial     IFRS Constant   \n",
      "3  Mobility Metered Taxis: Monthly     Commercial     IFRS Constant   \n",
      "4  Mobility Metered Taxis: Monthly     Commercial     IFRS Constant   \n",
      "\n",
      "   TotalPremium TotalClaims  \n",
      "0     21.929825         0.0  \n",
      "1     21.929825         0.0  \n",
      "2      0.000000         0.0  \n",
      "3    512.848070         0.0  \n",
      "4      0.000000         0.0  \n",
      "\n",
      "[5 rows x 52 columns]\n"
     ]
    }
   ],
   "source": [
    "# basic eda\n",
    "eda.display_info()"
   ]
  },
  {
   "cell_type": "code",
   "execution_count": 12,
   "metadata": {},
   "outputs": [
    {
     "name": "stdout",
     "output_type": "stream",
     "text": [
      "\n",
      "Date columns converted.\n"
     ]
    },
    {
     "name": "stderr",
     "output_type": "stream",
     "text": [
      "c:\\Users\\lenovo\\OneDrive\\Desktop\\10Academy Files\\week_3\\Alpha_care\\scripts\\Insurance_eda.py:52: UserWarning: Could not infer format, so each element will be parsed individually, falling back to `dateutil`. To ensure parsing is consistent and as-expected, please specify a format.\n",
      "  self.df[col] = pd.to_datetime(self.df[col], errors='coerce')\n"
     ]
    }
   ],
   "source": [
    "#converting_date to Datetime\n",
    "eda.convert_dates(['TransactionMonth', 'VehicleIntroDate'])"
   ]
  },
  {
   "cell_type": "code",
   "execution_count": 13,
   "metadata": {},
   "outputs": [
    {
     "name": "stdout",
     "output_type": "stream",
     "text": [
      "\n",
      "Missing Values:\n",
      "Bank                        145961\n",
      "AccountType                  40232\n",
      "MaritalStatus                 8259\n",
      "Gender                        9536\n",
      "mmcode                         552\n",
      "VehicleType                    552\n",
      "make                           552\n",
      "Model                          552\n",
      "Cylinders                      552\n",
      "cubiccapacity                  552\n",
      "kilowatts                      552\n",
      "bodytype                       552\n",
      "NumberOfDoors                  552\n",
      "VehicleIntroDate               552\n",
      "CustomValueEstimate         779642\n",
      "CapitalOutstanding               2\n",
      "NewVehicle                  153295\n",
      "WrittenOff                  641901\n",
      "Rebuilt                     641901\n",
      "Converted                   641901\n",
      "CrossBorder                 999400\n",
      "NumberOfVehiclesInFleet    1000098\n",
      "dtype: int64\n"
     ]
    }
   ],
   "source": [
    "#check_missing_values\n",
    "eda.check_missing_values()"
   ]
  },
  {
   "cell_type": "code",
   "execution_count": null,
   "metadata": {},
   "outputs": [],
   "source": []
  },
  {
   "cell_type": "code",
   "execution_count": 14,
   "metadata": {},
   "outputs": [
    {
     "name": "stdout",
     "output_type": "stream",
     "text": [
      "\n",
      "Handling Missing Values:\n"
     ]
    },
    {
     "name": "stderr",
     "output_type": "stream",
     "text": [
      "c:\\Users\\lenovo\\OneDrive\\Desktop\\10Academy Files\\week_3\\Alpha_care\\scripts\\Insurance_eda.py:42: FutureWarning: A value is trying to be set on a copy of a DataFrame or Series through chained assignment using an inplace method.\n",
      "The behavior will change in pandas 3.0. This inplace method will never work because the intermediate object on which we are setting values always behaves as a copy.\n",
      "\n",
      "For example, when doing 'df[col].method(value, inplace=True)', try using 'df.method({col: value}, inplace=True)' or df[col] = df[col].method(value) instead, to perform the operation inplace on the original object.\n",
      "\n",
      "\n",
      "  self.df[col].fillna(self.df[col].mode()[0], inplace=True)  # Fill with mode\n",
      "c:\\Users\\lenovo\\OneDrive\\Desktop\\10Academy Files\\week_3\\Alpha_care\\scripts\\Insurance_eda.py:44: FutureWarning: A value is trying to be set on a copy of a DataFrame or Series through chained assignment using an inplace method.\n",
      "The behavior will change in pandas 3.0. This inplace method will never work because the intermediate object on which we are setting values always behaves as a copy.\n",
      "\n",
      "For example, when doing 'df[col].method(value, inplace=True)', try using 'df.method({col: value}, inplace=True)' or df[col] = df[col].method(value) instead, to perform the operation inplace on the original object.\n",
      "\n",
      "\n",
      "  self.df[col].fillna(self.df[col].median(), inplace=True)  # Fill with median\n",
      "c:\\Users\\lenovo\\OneDrive\\Desktop\\10Academy Files\\week_3\\Alpha_care\\scripts\\Insurance_eda.py:42: FutureWarning: A value is trying to be set on a copy of a DataFrame or Series through chained assignment using an inplace method.\n",
      "The behavior will change in pandas 3.0. This inplace method will never work because the intermediate object on which we are setting values always behaves as a copy.\n",
      "\n",
      "For example, when doing 'df[col].method(value, inplace=True)', try using 'df.method({col: value}, inplace=True)' or df[col] = df[col].method(value) instead, to perform the operation inplace on the original object.\n",
      "\n",
      "\n",
      "  self.df[col].fillna(self.df[col].mode()[0], inplace=True)  # Fill with mode\n",
      "c:\\Users\\lenovo\\OneDrive\\Desktop\\10Academy Files\\week_3\\Alpha_care\\scripts\\Insurance_eda.py:44: FutureWarning: A value is trying to be set on a copy of a DataFrame or Series through chained assignment using an inplace method.\n",
      "The behavior will change in pandas 3.0. This inplace method will never work because the intermediate object on which we are setting values always behaves as a copy.\n",
      "\n",
      "For example, when doing 'df[col].method(value, inplace=True)', try using 'df.method({col: value}, inplace=True)' or df[col] = df[col].method(value) instead, to perform the operation inplace on the original object.\n",
      "\n",
      "\n",
      "  self.df[col].fillna(self.df[col].median(), inplace=True)  # Fill with median\n",
      "c:\\Users\\lenovo\\OneDrive\\Desktop\\10Academy Files\\week_3\\Alpha_care\\scripts\\Insurance_eda.py:44: FutureWarning: A value is trying to be set on a copy of a DataFrame or Series through chained assignment using an inplace method.\n",
      "The behavior will change in pandas 3.0. This inplace method will never work because the intermediate object on which we are setting values always behaves as a copy.\n",
      "\n",
      "For example, when doing 'df[col].method(value, inplace=True)', try using 'df.method({col: value}, inplace=True)' or df[col] = df[col].method(value) instead, to perform the operation inplace on the original object.\n",
      "\n",
      "\n",
      "  self.df[col].fillna(self.df[col].median(), inplace=True)  # Fill with median\n",
      "c:\\Users\\lenovo\\OneDrive\\Desktop\\10Academy Files\\week_3\\Alpha_care\\scripts\\Insurance_eda.py:44: FutureWarning: A value is trying to be set on a copy of a DataFrame or Series through chained assignment using an inplace method.\n",
      "The behavior will change in pandas 3.0. This inplace method will never work because the intermediate object on which we are setting values always behaves as a copy.\n",
      "\n",
      "For example, when doing 'df[col].method(value, inplace=True)', try using 'df.method({col: value}, inplace=True)' or df[col] = df[col].method(value) instead, to perform the operation inplace on the original object.\n",
      "\n",
      "\n",
      "  self.df[col].fillna(self.df[col].median(), inplace=True)  # Fill with median\n",
      "c:\\Users\\lenovo\\OneDrive\\Desktop\\10Academy Files\\week_3\\Alpha_care\\scripts\\Insurance_eda.py:42: FutureWarning: A value is trying to be set on a copy of a DataFrame or Series through chained assignment using an inplace method.\n",
      "The behavior will change in pandas 3.0. This inplace method will never work because the intermediate object on which we are setting values always behaves as a copy.\n",
      "\n",
      "For example, when doing 'df[col].method(value, inplace=True)', try using 'df.method({col: value}, inplace=True)' or df[col] = df[col].method(value) instead, to perform the operation inplace on the original object.\n",
      "\n",
      "\n",
      "  self.df[col].fillna(self.df[col].mode()[0], inplace=True)  # Fill with mode\n",
      "c:\\Users\\lenovo\\OneDrive\\Desktop\\10Academy Files\\week_3\\Alpha_care\\scripts\\Insurance_eda.py:44: FutureWarning: A value is trying to be set on a copy of a DataFrame or Series through chained assignment using an inplace method.\n",
      "The behavior will change in pandas 3.0. This inplace method will never work because the intermediate object on which we are setting values always behaves as a copy.\n",
      "\n",
      "For example, when doing 'df[col].method(value, inplace=True)', try using 'df.method({col: value}, inplace=True)' or df[col] = df[col].method(value) instead, to perform the operation inplace on the original object.\n",
      "\n",
      "\n",
      "  self.df[col].fillna(self.df[col].median(), inplace=True)  # Fill with median\n"
     ]
    },
    {
     "ename": "KeyError",
     "evalue": "'CustomValueEstimate'",
     "output_type": "error",
     "traceback": [
      "\u001b[1;31m---------------------------------------------------------------------------\u001b[0m",
      "\u001b[1;31mKeyError\u001b[0m                                  Traceback (most recent call last)",
      "File \u001b[1;32mc:\\Users\\lenovo\\OneDrive\\Desktop\\10Academy Files\\week_3\\Alpha_care\\week3\\Lib\\site-packages\\pandas\\core\\indexes\\base.py:3805\u001b[0m, in \u001b[0;36mIndex.get_loc\u001b[1;34m(self, key)\u001b[0m\n\u001b[0;32m   3804\u001b[0m \u001b[38;5;28;01mtry\u001b[39;00m:\n\u001b[1;32m-> 3805\u001b[0m     \u001b[38;5;28;01mreturn\u001b[39;00m \u001b[38;5;28;43mself\u001b[39;49m\u001b[38;5;241;43m.\u001b[39;49m\u001b[43m_engine\u001b[49m\u001b[38;5;241;43m.\u001b[39;49m\u001b[43mget_loc\u001b[49m\u001b[43m(\u001b[49m\u001b[43mcasted_key\u001b[49m\u001b[43m)\u001b[49m\n\u001b[0;32m   3806\u001b[0m \u001b[38;5;28;01mexcept\u001b[39;00m \u001b[38;5;167;01mKeyError\u001b[39;00m \u001b[38;5;28;01mas\u001b[39;00m err:\n",
      "File \u001b[1;32mindex.pyx:167\u001b[0m, in \u001b[0;36mpandas._libs.index.IndexEngine.get_loc\u001b[1;34m()\u001b[0m\n",
      "File \u001b[1;32mindex.pyx:196\u001b[0m, in \u001b[0;36mpandas._libs.index.IndexEngine.get_loc\u001b[1;34m()\u001b[0m\n",
      "File \u001b[1;32mpandas\\\\_libs\\\\hashtable_class_helper.pxi:7081\u001b[0m, in \u001b[0;36mpandas._libs.hashtable.PyObjectHashTable.get_item\u001b[1;34m()\u001b[0m\n",
      "File \u001b[1;32mpandas\\\\_libs\\\\hashtable_class_helper.pxi:7089\u001b[0m, in \u001b[0;36mpandas._libs.hashtable.PyObjectHashTable.get_item\u001b[1;34m()\u001b[0m\n",
      "\u001b[1;31mKeyError\u001b[0m: 'CustomValueEstimate'",
      "\nThe above exception was the direct cause of the following exception:\n",
      "\u001b[1;31mKeyError\u001b[0m                                  Traceback (most recent call last)",
      "Cell \u001b[1;32mIn[14], line 1\u001b[0m\n\u001b[1;32m----> 1\u001b[0m \u001b[43meda\u001b[49m\u001b[38;5;241;43m.\u001b[39;49m\u001b[43mhandle_missing_values\u001b[49m\u001b[43m(\u001b[49m\u001b[43m)\u001b[49m\n",
      "File \u001b[1;32mc:\\Users\\lenovo\\OneDrive\\Desktop\\10Academy Files\\week_3\\Alpha_care\\scripts\\Insurance_eda.py:41\u001b[0m, in \u001b[0;36mInsuranceEDA.handle_missing_values\u001b[1;34m(self)\u001b[0m\n\u001b[0;32m     37\u001b[0m \u001b[38;5;28;01mif\u001b[39;00m \u001b[38;5;28mself\u001b[39m\u001b[38;5;241m.\u001b[39mdf[col]\u001b[38;5;241m.\u001b[39misnull()\u001b[38;5;241m.\u001b[39msum() \u001b[38;5;241m>\u001b[39m \u001b[38;5;28mlen\u001b[39m(\u001b[38;5;28mself\u001b[39m\u001b[38;5;241m.\u001b[39mdf) \u001b[38;5;241m*\u001b[39m \u001b[38;5;241m0.5\u001b[39m:\n\u001b[0;32m     38\u001b[0m    \u001b[38;5;28mself\u001b[39m\u001b[38;5;241m.\u001b[39mdf\u001b[38;5;241m.\u001b[39mdrop(columns\u001b[38;5;241m=\u001b[39m[col], inplace\u001b[38;5;241m=\u001b[39m\u001b[38;5;28;01mTrue\u001b[39;00m)  \u001b[38;5;66;03m# Drop column if more than 50% missing\u001b[39;00m\n\u001b[1;32m---> 41\u001b[0m \u001b[38;5;28;01mif\u001b[39;00m \u001b[38;5;28;43mself\u001b[39;49m\u001b[38;5;241;43m.\u001b[39;49m\u001b[43mdf\u001b[49m\u001b[43m[\u001b[49m\u001b[43mcol\u001b[49m\u001b[43m]\u001b[49m\u001b[38;5;241m.\u001b[39mdtype \u001b[38;5;241m==\u001b[39m \u001b[38;5;124m'\u001b[39m\u001b[38;5;124mobject\u001b[39m\u001b[38;5;124m'\u001b[39m:  \u001b[38;5;66;03m# Categorical column\u001b[39;00m\n\u001b[0;32m     42\u001b[0m     \u001b[38;5;28mself\u001b[39m\u001b[38;5;241m.\u001b[39mdf[col]\u001b[38;5;241m.\u001b[39mfillna(\u001b[38;5;28mself\u001b[39m\u001b[38;5;241m.\u001b[39mdf[col]\u001b[38;5;241m.\u001b[39mmode()[\u001b[38;5;241m0\u001b[39m], inplace\u001b[38;5;241m=\u001b[39m\u001b[38;5;28;01mTrue\u001b[39;00m)  \u001b[38;5;66;03m# Fill with mode\u001b[39;00m\n\u001b[0;32m     43\u001b[0m \u001b[38;5;28;01melif\u001b[39;00m np\u001b[38;5;241m.\u001b[39missubdtype(\u001b[38;5;28mself\u001b[39m\u001b[38;5;241m.\u001b[39mdf[col]\u001b[38;5;241m.\u001b[39mdtype, np\u001b[38;5;241m.\u001b[39mnumber):  \u001b[38;5;66;03m# Numerical column\u001b[39;00m\n",
      "File \u001b[1;32mc:\\Users\\lenovo\\OneDrive\\Desktop\\10Academy Files\\week_3\\Alpha_care\\week3\\Lib\\site-packages\\pandas\\core\\frame.py:4102\u001b[0m, in \u001b[0;36mDataFrame.__getitem__\u001b[1;34m(self, key)\u001b[0m\n\u001b[0;32m   4100\u001b[0m \u001b[38;5;28;01mif\u001b[39;00m \u001b[38;5;28mself\u001b[39m\u001b[38;5;241m.\u001b[39mcolumns\u001b[38;5;241m.\u001b[39mnlevels \u001b[38;5;241m>\u001b[39m \u001b[38;5;241m1\u001b[39m:\n\u001b[0;32m   4101\u001b[0m     \u001b[38;5;28;01mreturn\u001b[39;00m \u001b[38;5;28mself\u001b[39m\u001b[38;5;241m.\u001b[39m_getitem_multilevel(key)\n\u001b[1;32m-> 4102\u001b[0m indexer \u001b[38;5;241m=\u001b[39m \u001b[38;5;28;43mself\u001b[39;49m\u001b[38;5;241;43m.\u001b[39;49m\u001b[43mcolumns\u001b[49m\u001b[38;5;241;43m.\u001b[39;49m\u001b[43mget_loc\u001b[49m\u001b[43m(\u001b[49m\u001b[43mkey\u001b[49m\u001b[43m)\u001b[49m\n\u001b[0;32m   4103\u001b[0m \u001b[38;5;28;01mif\u001b[39;00m is_integer(indexer):\n\u001b[0;32m   4104\u001b[0m     indexer \u001b[38;5;241m=\u001b[39m [indexer]\n",
      "File \u001b[1;32mc:\\Users\\lenovo\\OneDrive\\Desktop\\10Academy Files\\week_3\\Alpha_care\\week3\\Lib\\site-packages\\pandas\\core\\indexes\\base.py:3812\u001b[0m, in \u001b[0;36mIndex.get_loc\u001b[1;34m(self, key)\u001b[0m\n\u001b[0;32m   3807\u001b[0m     \u001b[38;5;28;01mif\u001b[39;00m \u001b[38;5;28misinstance\u001b[39m(casted_key, \u001b[38;5;28mslice\u001b[39m) \u001b[38;5;129;01mor\u001b[39;00m (\n\u001b[0;32m   3808\u001b[0m         \u001b[38;5;28misinstance\u001b[39m(casted_key, abc\u001b[38;5;241m.\u001b[39mIterable)\n\u001b[0;32m   3809\u001b[0m         \u001b[38;5;129;01mand\u001b[39;00m \u001b[38;5;28many\u001b[39m(\u001b[38;5;28misinstance\u001b[39m(x, \u001b[38;5;28mslice\u001b[39m) \u001b[38;5;28;01mfor\u001b[39;00m x \u001b[38;5;129;01min\u001b[39;00m casted_key)\n\u001b[0;32m   3810\u001b[0m     ):\n\u001b[0;32m   3811\u001b[0m         \u001b[38;5;28;01mraise\u001b[39;00m InvalidIndexError(key)\n\u001b[1;32m-> 3812\u001b[0m     \u001b[38;5;28;01mraise\u001b[39;00m \u001b[38;5;167;01mKeyError\u001b[39;00m(key) \u001b[38;5;28;01mfrom\u001b[39;00m \u001b[38;5;21;01merr\u001b[39;00m\n\u001b[0;32m   3813\u001b[0m \u001b[38;5;28;01mexcept\u001b[39;00m \u001b[38;5;167;01mTypeError\u001b[39;00m:\n\u001b[0;32m   3814\u001b[0m     \u001b[38;5;66;03m# If we have a listlike key, _check_indexing_error will raise\u001b[39;00m\n\u001b[0;32m   3815\u001b[0m     \u001b[38;5;66;03m#  InvalidIndexError. Otherwise we fall through and re-raise\u001b[39;00m\n\u001b[0;32m   3816\u001b[0m     \u001b[38;5;66;03m#  the TypeError.\u001b[39;00m\n\u001b[0;32m   3817\u001b[0m     \u001b[38;5;28mself\u001b[39m\u001b[38;5;241m.\u001b[39m_check_indexing_error(key)\n",
      "\u001b[1;31mKeyError\u001b[0m: 'CustomValueEstimate'"
     ]
    }
   ],
   "source": [
    "eda.handle_missing_values()"
   ]
  },
  {
   "cell_type": "code",
   "execution_count": 33,
   "metadata": {},
   "outputs": [
    {
     "name": "stdout",
     "output_type": "stream",
     "text": [
      "\n",
      "Descriptive Statistics:\n",
      "       Citizenship   LegalType         Gender Province        CoverCategory  \\\n",
      "count      1000098     1000098         990562  1000098              1000098   \n",
      "unique           4           6              3        9                   28   \n",
      "top                 Individual  Not specified  Gauteng  Passenger Liability   \n",
      "freq        895210      911929         940990   393865               104158   \n",
      "\n",
      "              VehicleType       Country  MaritalStatus Language  \n",
      "count              999546       1000098         991839  1000098  \n",
      "unique                  5             1              3        1  \n",
      "top     Passenger Vehicle  South Africa  Not specified  English  \n",
      "freq               933598       1000098         986208  1000098  \n"
     ]
    }
   ],
   "source": [
    "#Descriptive statistics\n",
    "eda.descriptive_statistics(['Citizenship', 'LegalType', 'Gender', 'Province', 'CoverCategory', 'VehicleType', 'Country', 'MaritalStatus', 'Language'])"
   ]
  },
  {
   "cell_type": "code",
   "execution_count": 26,
   "metadata": {},
   "outputs": [
    {
     "name": "stdout",
     "output_type": "stream",
     "text": [
      "\n",
      "Outlier Counts:\n",
      "{'TotalPremium': 209042, 'TotalClaims': 2793, 'SumInsured': 104294, 'CalculatedPremiumPerTerm': 175508}\n"
     ]
    }
   ],
   "source": [
    "eda.check_outliers(['TotalPremium', 'TotalClaims', 'SumInsured', 'CalculatedPremiumPerTerm'])"
   ]
  },
  {
   "cell_type": "code",
   "execution_count": 35,
   "metadata": {},
   "outputs": [
    {
     "name": "stdout",
     "output_type": "stream",
     "text": [
      "\n",
      "Categorical columns converted.\n"
     ]
    }
   ],
   "source": [
    "eda.convert_categorical(['Citizenship', 'LegalType', 'Gender', 'Province', 'CoverCategory', 'VehicleType', 'Country', 'MaritalStatus', 'Language'])"
   ]
  },
  {
   "cell_type": "code",
   "execution_count": null,
   "metadata": {},
   "outputs": [],
   "source": []
  }
 ],
 "metadata": {
  "kernelspec": {
   "display_name": "week3",
   "language": "python",
   "name": "python3"
  },
  "language_info": {
   "codemirror_mode": {
    "name": "ipython",
    "version": 3
   },
   "file_extension": ".py",
   "mimetype": "text/x-python",
   "name": "python",
   "nbconvert_exporter": "python",
   "pygments_lexer": "ipython3",
   "version": "3.13.0"
  }
 },
 "nbformat": 4,
 "nbformat_minor": 2
}
